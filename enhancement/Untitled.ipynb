{
 "cells": [
  {
   "cell_type": "code",
   "execution_count": 3,
   "metadata": {},
   "outputs": [],
   "source": [
    "#!pip install opencv-python\n",
    "\n",
    "import cv2\n",
    "import face_recognition\n",
    "import time\n",
    "\n",
    "st=time.time()\n",
    "\n"
   ]
  },
  {
   "cell_type": "code",
   "execution_count": 4,
   "metadata": {},
   "outputs": [],
   "source": [
    "cap=cv2.VideoCapture(\"data/test.mp4\")"
   ]
  },
  {
   "cell_type": "code",
   "execution_count": 5,
   "metadata": {},
   "outputs": [
    {
     "data": {
      "text/plain": [
       "<VideoCapture 0x7fd2a06069b0>"
      ]
     },
     "execution_count": 5,
     "metadata": {},
     "output_type": "execute_result"
    }
   ],
   "source": [
    "cap\n"
   ]
  },
  {
   "cell_type": "code",
   "execution_count": 6,
   "metadata": {},
   "outputs": [],
   "source": [
    "out=None\n",
    "frame_no=1490\n",
    "\n"
   ]
  },
  {
   "cell_type": "code",
   "execution_count": null,
   "metadata": {},
   "outputs": [],
   "source": [
    "while frame_no:\n",
    "    frame_no-=1\n",
    "    ret, img = cap.read()\n",
    "    if ret==0:\n",
    "        break\n",
    "    if out is None:\n",
    "        [h, w]= img.shape[:2]\n",
    "        out=cv2.VideoWriter(\"data/test_out.mp4\", 0, 25, (w,h))\n",
    "    img_np= cv2.cvtColor(img,cv2.COLOR_BGR2RGB)\n",
    "    \n",
    "    #known_image = face_recognition.load_image_file(\"data/a_side.jpeg\")\n",
    "    #unknown_image = face_recognition.load_image_file(\"data/a1.jpeg\")\n",
    "\n",
    "    biden_encoding = face_recognition.face_encodings(imp_np)[0]\n",
    "    #unknown_encoding = face_recognition.face_encodings(img_np)[0]\n",
    "\n",
    "    #results = face_recognition.compare_faces([biden_encoding], unknown_encoding)\n",
    "\n",
    "    et=time.time()\n",
    "    "
   ]
  }
 ],
 "metadata": {
  "kernelspec": {
   "display_name": "Python 3",
   "language": "python",
   "name": "python3"
  },
  "language_info": {
   "codemirror_mode": {
    "name": "ipython",
    "version": 3
   },
   "file_extension": ".py",
   "mimetype": "text/x-python",
   "name": "python",
   "nbconvert_exporter": "python",
   "pygments_lexer": "ipython3",
   "version": "3.6.6"
  }
 },
 "nbformat": 4,
 "nbformat_minor": 2
}
